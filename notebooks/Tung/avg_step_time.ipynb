{
 "cells": [
  {
   "cell_type": "code",
   "execution_count": null,
   "metadata": {},
   "outputs": [],
   "source": [
    "import numpy as np\n",
    "import pandas as pd\n",
    "import matplotlib.pyplot as plt"
   ]
  },
  {
   "cell_type": "code",
   "execution_count": null,
   "metadata": {},
   "outputs": [],
   "source": [
    "df_1 = pd.read_csv(r\"..\\..\\data\\clean\\all_clients.csv\")\n",
    "df_2 = pd.read_csv(r\"..\\..\\data\\clean\\control_filter.csv\")\n",
    "df_3 = pd.read_csv(r\"..\\..\\data\\clean\\test_filter.csv\")"
   ]
  },
  {
   "cell_type": "code",
   "execution_count": null,
   "metadata": {},
   "outputs": [],
   "source": [
    "def valid_session(df: pd.DataFrame) -> pd.DataFrame:\n",
    "    # Convert the 'date_time' column to datetime format\n",
    "    df['date_time'] = pd.to_datetime(df['date_time'])\n",
    "    \n",
    "    # Get the most recent session for each client (the latest visit_id per client)\n",
    "    most_recent_sessions = df.loc[df.groupby('client_id')['date_time'].idxmax()]\n",
    "    \n",
    "    # Now filter the data to include only the most recent sessions\n",
    "    df_recent = df[df['visit_id'].isin(most_recent_sessions['visit_id'])]\n",
    "    \n",
    "    # Sort by client_id, visitor_id, and date_time to make sure steps are in correct order\n",
    "    df_recent = df_recent.sort_values(by=['client_id', 'visitor_id', 'date_time'])\n",
    "\n",
    "    return df_recent\n",
    "\n",
    "\n",
    "df_1 = valid_session(df_1)\n",
    "\n",
    "\n",
    "step_mapping = {\n",
    "        'start': 0,\n",
    "        'step_1': 1,\n",
    "        'step_2': 2,\n",
    "        'step_3': 3,\n",
    "        'confirm': 4\n",
    "    }\n",
    "def step_map(df):\n",
    "    df[\"process_step_num\"] = df[\"process_step\"].map(step_mapping)\n",
    "    df = df.sort_values(by=[\"client_id\", \"process_step_num\"], ascending = True)\n",
    "\n",
    "    return df\n",
    "\n",
    "step_map(df_1)\n",
    "\n",
    "df_1.tail()"
   ]
  },
  {
   "cell_type": "code",
   "execution_count": null,
   "metadata": {},
   "outputs": [],
   "source": [
    "def total_time_again(df):\n",
    "\n",
    "    # Assuming you have the DataFrame 'df'\n",
    "    # Step 1: Convert 'date_time' to datetime\n",
    "    df['date_time'] = pd.to_datetime(df['date_time'])\n",
    "\n",
    "    # Step 2: Sort the DataFrame by visit_id and date_time to ensure the sequence is correct\n",
    "    df.sort_values(by=['visit_id', 'date_time'], inplace=True)\n",
    "\n",
    "    # Step 3: Calculate the time difference between consecutive rows\n",
    "    df['time_diff'] = df.groupby('visit_id')['date_time'].diff()\n",
    "\n",
    "    # Step 4: Filter out rows where time_diff is NaT (first row of each visit_id)\n",
    "    df = df.dropna(subset=['time_diff'])\n",
    "\n",
    "    # Step 5: Calculate average time spent per process_step\n",
    "    average_time_per_step = df.groupby('process_step')['time_diff'].mean()\n",
    "\n",
    "    # Step 6: Convert time difference to minutes or seconds\n",
    "    average_time_per_step = average_time_per_step.dt.total_seconds() #/ 60  # In minutes\n",
    "    average_time_per_step = average_time_per_step.round(2)\n",
    "    print(average_time_per_step)\n",
    "\n",
    "\n",
    "total_time_again(df_1)"
   ]
  }
 ],
 "metadata": {
  "kernelspec": {
   "display_name": "Python 3",
   "language": "python",
   "name": "python3"
  },
  "language_info": {
   "codemirror_mode": {
    "name": "ipython",
    "version": 3
   },
   "file_extension": ".py",
   "mimetype": "text/x-python",
   "name": "python",
   "nbconvert_exporter": "python",
   "pygments_lexer": "ipython3",
   "version": "3.12.6"
  }
 },
 "nbformat": 4,
 "nbformat_minor": 2
}
