{
 "cells": [
  {
   "cell_type": "code",
   "execution_count": null,
   "metadata": {},
   "outputs": [],
   "source": [
    "import numpy as np\n",
    "import pandas as pd\n",
    "import matplotlib.pyplot as plt"
   ]
  },
  {
   "cell_type": "code",
   "execution_count": null,
   "metadata": {},
   "outputs": [],
   "source": [
    "from Tung_functions import *"
   ]
  },
  {
   "cell_type": "code",
   "execution_count": null,
   "metadata": {},
   "outputs": [],
   "source": [
    "df_1 = pd.read_csv(r\"..\\..\\data\\clean\\all_clients.csv\")\n",
    "df_2 = pd.read_csv(r\"..\\..\\data\\clean\\control_filter.csv\")\n",
    "df_3 = pd.read_csv(r\"..\\..\\data\\clean\\test_filter.csv\")\n",
    "df_4 = pd.read_csv(r\"..\\..\\data\\raw\\Client_Profiles.txt\")"
   ]
  },
  {
   "cell_type": "code",
   "execution_count": null,
   "metadata": {},
   "outputs": [],
   "source": [
    "df_1.shape"
   ]
  },
  {
   "cell_type": "code",
   "execution_count": null,
   "metadata": {},
   "outputs": [],
   "source": [
    "df_1 = valid_session(df_1)\n",
    "df_1 = step_map(df_1)"
   ]
  },
  {
   "cell_type": "code",
   "execution_count": null,
   "metadata": {},
   "outputs": [],
   "source": [
    "df_1.shape"
   ]
  },
  {
   "cell_type": "code",
   "execution_count": null,
   "metadata": {},
   "outputs": [],
   "source": [
    "control = df_1[df_1[\"variation\"] == \"Control\"]\n",
    "testing = df_1[df_1[\"variation\"] == \"Test\"]\n",
    "\n",
    "control.shape, testing.shape"
   ]
  },
  {
   "cell_type": "code",
   "execution_count": null,
   "metadata": {},
   "outputs": [],
   "source": [
    "calculate_avg_time(control)\n",
    "calculate_avg_time(testing)"
   ]
  },
  {
   "cell_type": "code",
   "execution_count": null,
   "metadata": {},
   "outputs": [],
   "source": [
    "#control.to_csv(\"control_avg_time\", index = False)\n",
    "#testing.to_csv(\"testing_avg_time\", index = False)"
   ]
  },
  {
   "cell_type": "code",
   "execution_count": null,
   "metadata": {},
   "outputs": [],
   "source": [
    "control_client_avg = control.groupby(\"client_id\")[\"total_start_to_confirm_time\"].mean().dropna()\n",
    "test_client_avg = testing.groupby(\"client_id\")[\"total_start_to_confirm_time\"].mean().dropna()"
   ]
  },
  {
   "cell_type": "code",
   "execution_count": null,
   "metadata": {},
   "outputs": [],
   "source": [
    "rc = control[\"total_start_to_confirm_time\"].mean()\n",
    "rc_step1 = control[\"start_to_step_1_time\"].mean()\n",
    "rc_step2 = control[\"step_1_to_step_2_time\"].mean()\n",
    "rc_step3 = control[\"step_2_to_step_3_time\"].mean()\n",
    "rc_confirm = control[\"step_3_to_confirm_time\"].mean()\n",
    "\n",
    "print(f\"avg time for CONTROL clients:\")\n",
    "print (f\"Start to Step 1: {rc_step1: .2f} seconds\")\n",
    "print (f\"Step 1 to Step 2: {rc_step2: .2f} seconds\")\n",
    "print (f\"Step 2 to Step 3: {rc_step3: .2f} seconds\")\n",
    "print (f\"Step 3 to Confirm: {rc_confirm: .2f} seconds\")\n",
    "print (f\"Total time: {rc: .2f}\")\n",
    "print(\"\")\n",
    "\n",
    "\n",
    "rt = testing[\"total_start_to_confirm_time\"].mean()\n",
    "rt_step1 = testing[\"start_to_step_1_time\"].mean()\n",
    "rt_step2 = testing[\"step_1_to_step_2_time\"].mean()\n",
    "rt_step3 = testing[\"step_2_to_step_3_time\"].mean()\n",
    "rt_confirm = testing[\"step_3_to_confirm_time\"].mean()\n",
    "\n",
    "print(f\"avg time for TEST clients:\")\n",
    "print (f\"Start to Step 1: {rt_step1: .2f} seconds\")\n",
    "print (f\"Step 1 to Step 2: {rt_step2: .2f} seconds\")\n",
    "print (f\"Step 2 to Step 3: {rt_step3: .2f} seconds\")\n",
    "print (f\"Step 3 to Confirm: {rt_confirm: .2f} seconds\")\n",
    "print (f\"Total time: {rt: .2f}\")\n",
    "\n"
   ]
  },
  {
   "cell_type": "code",
   "execution_count": null,
   "metadata": {},
   "outputs": [],
   "source": [
    "#H0: both groups are performing the same\n",
    "# H: test group is faster \n",
    "\n",
    "import scipy.stats as st\n",
    "\n",
    "# Perform a two-sample t-test on the 'total_start_to_confirm_time' column\n",
    "t_stat, p_value = st.ttest_ind(control_client_avg, test_client_avg)\n",
    "\n",
    "\n",
    "# Output the results\n",
    "print(f\"T-statistic: {t_stat}\")\n",
    "print(f\"P-value: {p_value}\")\n",
    "\n",
    "# Hypothesis test interpretation\n",
    "if p_value < 0.05:\n",
    "    print(\"Reject the null hypothesis: There is a significant difference between the control and testing groups.\")\n",
    "else:\n",
    "    print(\"Fail to reject the null hypothesis: No significant difference between the control and testing groups.\")\n"
   ]
  },
  {
   "cell_type": "code",
   "execution_count": null,
   "metadata": {},
   "outputs": [],
   "source": [
    "#df_4.drop(columns=[\"calls_6_mnth\", \"logons_6_mnth\"], inplace = True, axis = 1)\n",
    "df_clients_control = pd.merge(control, df_4, how = \"inner\", on = \"client_id\")\n",
    "df_clients_testing = pd.merge(testing, df_4, how = \"inner\", on = \"client_id\")\n",
    "\n",
    "dft = pd.concat([df_clients_control, df_clients_testing], axis=0, ignore_index=True)\n",
    "dft.drop(columns = [\"Unnamed: 0\", \"visitor_id\", \"visit_id\"], inplace = True, axis = 1)\n",
    "dft.head(50)\n"
   ]
  },
  {
   "cell_type": "code",
   "execution_count": null,
   "metadata": {},
   "outputs": [],
   "source": [
    "#dft.to_csv(\"all_valid_clients_with_times\", index = False)"
   ]
  }
 ],
 "metadata": {
  "kernelspec": {
   "display_name": "Python 3",
   "language": "python",
   "name": "python3"
  },
  "language_info": {
   "codemirror_mode": {
    "name": "ipython",
    "version": 3
   },
   "file_extension": ".py",
   "mimetype": "text/x-python",
   "name": "python",
   "nbconvert_exporter": "python",
   "pygments_lexer": "ipython3",
   "version": "3.12.6"
  }
 },
 "nbformat": 4,
 "nbformat_minor": 2
}
