{
 "cells": [
  {
   "cell_type": "code",
   "execution_count": null,
   "id": "c88942de-598a-44be-993f-5c216b6f22c6",
   "metadata": {},
   "outputs": [],
   "source": [
    "import pandas as pd\n",
    "import seaborn as sns\n",
    "import matplotlib as plt"
   ]
  },
  {
   "cell_type": "code",
   "execution_count": null,
   "id": "98b09d2d-5a07-47cf-8975-ccf31bdd8d54",
   "metadata": {},
   "outputs": [],
   "source": [
    "df_df_1_org = pd.read_csv(r\"..\\..\\data\\raw\\Digital_Footprints_pt1.txt\")\n",
    "df_df_2_org = pd.read_csv(r\"..\\..\\data\\raw\\Digital_Footprints_pt2.txt\")\n",
    "df_cp_org = pd.read_csv(r\"..\\..\\data\\raw\\Client_Profiles.txt\")\n",
    "df_er_org = pd.read_csv(r\"..\\..\\data\\raw\\Experiment_Roster.txt\")"
   ]
  },
  {
   "cell_type": "code",
   "execution_count": null,
   "id": "18d8603d-5950-4588-8639-5b935f466123",
   "metadata": {},
   "outputs": [],
   "source": [
    "df_df = pd.concat([df_df_1_org, df_df_2_org], axis=0, ignore_index=True)\n",
    "df_df = df_df.drop_duplicates()\n",
    "\n",
    "df_df.head()\n",
    "df_df_sorted_date = df_df.sort_values(by='date_time', ascending=True)\n",
    "df_df.head(20)"
   ]
  },
  {
   "cell_type": "markdown",
   "id": "6a52382a-cc9a-4da5-a9b2-1619fccab5a7",
   "metadata": {},
   "source": [
    "def validating_steps(df):\n",
    "    # Create an empty list to store valid rows\n",
    "    valid_rows = []\n",
    "\n",
    "    # Loop over each unique client_id\n",
    "    for client_id in df[\"client_id\"].unique():\n",
    "        # Filter the data for the current client_id\n",
    "        client_data = df[df[\"client_id\"] == client_id]\n",
    "        \n",
    "        # Initialize step counts\n",
    "        step_counts = {\n",
    "            \"confirm\": 0,\n",
    "            \"step_3\": 0,\n",
    "            \"step_2\": 0,\n",
    "            \"step_1\": 0,\n",
    "            \"start\": 0\n",
    "        }\n",
    "\n",
    "        # Loop through each row in the client_data and increment step_count as necessary\n",
    "        for _, row in client_data.iterrows():\n",
    "            process_step = row[\"process_step\"]\n",
    "            \n",
    "            if process_step in step_counts:\n",
    "                step_counts[process_step] += 1\n",
    "\n",
    "        # Now filter the client_data for each process step and get the last occurrence\n",
    "        for step in [\"confirm\", \"step_3\", \"step_2\", \"step_1\", \"start\"]:\n",
    "            step_data = client_data[client_data[\"process_step\"] == step]\n",
    "            \n",
    "            # If there is data for this step, get the last entry\n",
    "            if not step_data.empty:\n",
    "                latest_row = step_data.loc[step_data[\"date_time\"].idxmax()]  # Get the row with the latest date_time\n",
    "                valid_rows.append(latest_row)\n",
    "\n",
    "    # Create a new DataFrame from the valid rows\n",
    "    df_valid = pd.DataFrame(valid_rows)\n",
    "    \n",
    "    return df_valid\n"
   ]
  },
  {
   "cell_type": "code",
   "execution_count": null,
   "id": "8c807ab2-f0c6-4fe0-8985-2999a870b8ee",
   "metadata": {},
   "outputs": [],
   "source": [
    "def validating_steps(df):\n",
    "    # First, convert 'date_time' to datetime format if not already\n",
    "    df['date_time'] = pd.to_datetime(df['date_time'])\n",
    "\n",
    "    # List of process steps to consider\n",
    "    process_steps = ['confirm', 'step_3', 'step_2', 'step_1', 'start']\n",
    "\n",
    "    # We will first filter the DataFrame to only include the rows with the relevant process steps\n",
    "    df_filtered = df[df['process_step'].isin(process_steps)]\n",
    "\n",
    "    # Now, we group by 'client_id' and 'process_step', then find the latest 'date_time' for each group\n",
    "    latest_rows = df_filtered.loc[df_filtered.groupby(['client_id', 'process_step'])['date_time'].idxmax()]\n",
    "    latest_rows = latest_rows.sort_values(by=\"date_time\", ascending = True)\n",
    "    \n",
    "    return latest_rows\n",
    "\n",
    "validating_steps(df_df)\n"
   ]
  },
  {
   "cell_type": "markdown",
   "id": "be7276d6-e21a-40f1-a840-c5316723fa56",
   "metadata": {},
   "source": [
    "# filtering valid steps for client\n",
    "def validating_steps(df):\n",
    "    # Create an empty list to store the valid rows\n",
    "    valid_rows = []\n",
    "\n",
    "    # Define the process steps of interest\n",
    "    process_steps = [\"confirm\", \"step_3\", \"step_2\", \"step_1\", \"start\"]\n",
    "\n",
    "    # Loop over each unique client_id\n",
    "    for client_id in df[\"client_id\"].unique():\n",
    "        # Filter the data for the current client_id\n",
    "        client_data = df[df[\"client_id\"] == client_id]\n",
    "        \n",
    "        # Loop over each process step\n",
    "        for step in process_steps:\n",
    "            # Filter the data for the current process step\n",
    "            step_data = client_data[client_data[\"process_step\"] == step]\n",
    "            \n",
    "            # If there is any data for this step, get the row with the latest date_time\n",
    "            if not step_data.empty:\n",
    "                latest_row = step_data.loc[step_data[\"date_time\"].idxmax()]\n",
    "                valid_rows.append(latest_row)\n",
    "\n",
    "    # Create a DataFrame from the valid rows\n",
    "    df_valid = pd.DataFrame(valid_rows)\n",
    "    \n",
    "    return df_valid\n",
    "\n",
    "df_valid = validating_steps(df_df)\n",
    "\n",
    "df_valid.shape\n"
   ]
  },
  {
   "cell_type": "code",
   "execution_count": null,
   "id": "a461fca1-aec7-4565-8c5e-ea069fb36a3c",
   "metadata": {},
   "outputs": [],
   "source": [
    "df_cp = df_cp_org.copy()\n",
    "df_cp.head()"
   ]
  },
  {
   "cell_type": "code",
   "execution_count": null,
   "id": "dc9f6ec9-209a-4d5e-b9d7-e5e67d76c4dc",
   "metadata": {},
   "outputs": [],
   "source": [
    "df_er = df_er_org.copy()\n",
    "df_er = df_er.dropna()\n",
    "df_er.head()"
   ]
  }
 ],
 "metadata": {
  "kernelspec": {
   "display_name": "Python 3 (ipykernel)",
   "language": "python",
   "name": "python3"
  },
  "language_info": {
   "codemirror_mode": {
    "name": "ipython",
    "version": 3
   },
   "file_extension": ".py",
   "mimetype": "text/x-python",
   "name": "python",
   "nbconvert_exporter": "python",
   "pygments_lexer": "ipython3",
   "version": "3.12.4"
  }
 },
 "nbformat": 4,
 "nbformat_minor": 5
}
