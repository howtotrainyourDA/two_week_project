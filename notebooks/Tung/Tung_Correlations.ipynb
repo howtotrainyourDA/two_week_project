{
 "cells": [
  {
   "cell_type": "code",
   "execution_count": null,
   "metadata": {},
   "outputs": [],
   "source": [
    "import numpy as np\n",
    "import pandas as pd\n",
    "import matplotlib.pyplot as plt\n",
    "import scipy.stats as st"
   ]
  },
  {
   "cell_type": "code",
   "execution_count": null,
   "metadata": {},
   "outputs": [],
   "source": [
    "dft = pd.read_csv(r\"..\\..\\data\\clean\\all_valid_clients_with_times\")\n",
    "dft"
   ]
  },
  {
   "cell_type": "code",
   "execution_count": null,
   "metadata": {},
   "outputs": [],
   "source": [
    "dft['age_group'] = pd.cut(\n",
    "    dft['clnt_age'], \n",
    "    bins=[0, 18, 25, 35, 50, 65, 100], \n",
    "    labels=['<18', '18-25', '26-35', '36-50', '51-65', '65+']\n",
    ")"
   ]
  },
  {
   "cell_type": "code",
   "execution_count": null,
   "metadata": {},
   "outputs": [],
   "source": [
    "dft_age = dft.groupby([\"age_group\", \"variation\"])[\"total_start_to_confirm_time\"].mean().round(2)\n",
    "dft_age_control = dft_age[dft_age.index.get_level_values('variation') == 'Control']\n",
    "dft_age_testing = dft_age[dft_age.index.get_level_values('variation') == 'Test']\n",
    "\n",
    "print(dft_age)\n",
    "print(\"\")"
   ]
  },
  {
   "cell_type": "code",
   "execution_count": null,
   "metadata": {},
   "outputs": [],
   "source": [
    "dft_age_total = dft.groupby([\"age_group\", \"variation\"])[\"total_start_to_confirm_time\"].mean().round(2)\n",
    "dft_age_control = dft_age_total[dft_age_total.index.get_level_values('variation') == 'Control']\n",
    "dft_age_testing = dft_age_total[dft_age_total.index.get_level_values('variation') == 'Test']\n",
    "\n",
    "print(dft_age_total)\n",
    "print(\"\")"
   ]
  },
  {
   "cell_type": "code",
   "execution_count": null,
   "metadata": {},
   "outputs": [],
   "source": [
    "dft_age_steps = dft.groupby([\"age_group\", \"variation\"])[[\"start_to_step_1_time\", \"step_1_to_step_2_time\", \"step_2_to_step_3_time\", \"step_3_to_confirm_time\" ]].mean().round(2)\n",
    "\n",
    "\n",
    "dft_age_steps"
   ]
  },
  {
   "cell_type": "code",
   "execution_count": null,
   "metadata": {},
   "outputs": [],
   "source": [
    "df_age_group_steps_time = pd.DataFrame(dft_age_steps).reset_index()\n",
    "\n",
    "#df_age_group_steps_time.to_csv(\"../../data/clean/step_time_per_age_group\", index = False)\n"
   ]
  }
 ],
 "metadata": {
  "kernelspec": {
   "display_name": "Python 3",
   "language": "python",
   "name": "python3"
  },
  "language_info": {
   "codemirror_mode": {
    "name": "ipython",
    "version": 3
   },
   "file_extension": ".py",
   "mimetype": "text/x-python",
   "name": "python",
   "nbconvert_exporter": "python",
   "pygments_lexer": "ipython3",
   "version": "3.12.6"
  }
 },
 "nbformat": 4,
 "nbformat_minor": 2
}
