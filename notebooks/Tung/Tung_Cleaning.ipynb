{
 "cells": [
  {
   "cell_type": "code",
   "execution_count": null,
   "id": "c88942de-598a-44be-993f-5c216b6f22c6",
   "metadata": {},
   "outputs": [],
   "source": [
    "import pandas as pd\n",
    "import seaborn as sns\n",
    "import matplotlib as plt"
   ]
  },
  {
   "cell_type": "code",
   "execution_count": null,
   "id": "98b09d2d-5a07-47cf-8975-ccf31bdd8d54",
   "metadata": {},
   "outputs": [],
   "source": [
    "df_1 = pd.read_csv(r\"..\\..\\data\\clean\\all_clients.csv\")\n",
    "df_2 = pd.read_csv(r\"..\\..\\data\\clean\\control_filter.csv\")\n",
    "df_3 = pd.read_csv(r\"..\\..\\data\\clean\\test_filter.csv\")"
   ]
  },
  {
   "cell_type": "code",
   "execution_count": null,
   "id": "ac3981ec",
   "metadata": {},
   "outputs": [],
   "source": [
    "\"\"\"\n",
    "input: dataframe\n",
    "output: dataframe\n",
    "\n",
    "function to only take latest session per client. previous sessions will be removed\n",
    "\n",
    "\"\"\"\n",
    "\n",
    "def valid_session(df: pd.DataFrame) -> pd.DataFrame:\n",
    "    # Convert the 'date_time' column to datetime format\n",
    "    df['date_time'] = pd.to_datetime(df['date_time'])\n",
    "    \n",
    "    # Get the most recent session for each client (the latest visit_id per client)\n",
    "    most_recent_sessions = df.loc[df.groupby('client_id')['date_time'].idxmax()]\n",
    "    \n",
    "    # Now filter the data to include only the most recent sessions\n",
    "    df_recent = df[df['visit_id'].isin(most_recent_sessions['visit_id'])]\n",
    "    \n",
    "    # Sort by client_id, visitor_id, and date_time to make sure steps are in correct order\n",
    "    df_recent = df_recent.sort_values(by=['client_id', 'visitor_id', 'date_time'])\n",
    "\n",
    "    return df_recent"
   ]
  },
  {
   "cell_type": "code",
   "execution_count": null,
   "id": "1f3c31d6",
   "metadata": {},
   "outputs": [],
   "source": [
    "df_1.shape"
   ]
  },
  {
   "cell_type": "code",
   "execution_count": null,
   "id": "8dfdb344",
   "metadata": {},
   "outputs": [],
   "source": [
    "df_1 = valid_session(df_1)\n",
    "df_1.shape"
   ]
  },
  {
   "cell_type": "code",
   "execution_count": null,
   "id": "fab6df92",
   "metadata": {},
   "outputs": [],
   "source": []
  },
  {
   "cell_type": "code",
   "execution_count": null,
   "id": "06ac28a4",
   "metadata": {},
   "outputs": [],
   "source": []
  },
  {
   "cell_type": "code",
   "execution_count": null,
   "id": "8d724180",
   "metadata": {},
   "outputs": [],
   "source": []
  },
  {
   "cell_type": "code",
   "execution_count": null,
   "id": "093e680d",
   "metadata": {},
   "outputs": [],
   "source": []
  },
  {
   "cell_type": "code",
   "execution_count": null,
   "id": "10bdaee8",
   "metadata": {},
   "outputs": [],
   "source": []
  },
  {
   "cell_type": "code",
   "execution_count": null,
   "id": "30fb0f10",
   "metadata": {},
   "outputs": [],
   "source": [
    "##--- this is outdated ---"
   ]
  },
  {
   "cell_type": "code",
   "execution_count": null,
   "id": "18d8603d-5950-4588-8639-5b935f466123",
   "metadata": {},
   "outputs": [],
   "source": [
    "#concat both footprint csvs for a whole set and dropping duplicate rows\n",
    "df_df = pd.concat([df_df_1_org, df_df_2_org], axis=0, ignore_index=True)\n",
    "df_df = df_df.drop_duplicates()\n",
    "\n",
    "#sorting the date to assure the valid process_step is always the first to shown; valid is defined as \"most recent\"\n",
    "df_df.head()\n",
    "df_df_sorted_date = df_df.sort_values(by=[\"client_id\", \"visitor_id\", 'date_time'], ascending=True)\n",
    "\n",
    "print(\"\\n\", df_df.shape)\n",
    "df_df.head(20)\n",
    "\n",
    "#quick check if all entries are within the duration of experiment\n",
    "min(df_df[\"date_time\"])\n",
    "max(df_df[\"date_time\"])\n",
    "\n"
   ]
  },
  {
   "cell_type": "code",
   "execution_count": null,
   "id": "8c807ab2-f0c6-4fe0-8985-2999a870b8ee",
   "metadata": {},
   "outputs": [],
   "source": [
    "\"\"\"\n",
    "input: dataframe\n",
    "output: dataframe\n",
    "\n",
    "function to ONLY take the latest date_time row for EACH process_step PER client_id\n",
    "\n",
    "\"\"\"\n",
    "\n",
    "def validating_steps(df):\n",
    "    df['date_time'] = pd.to_datetime(df['date_time'])\n",
    "    process_steps = ['confirm', 'step_3', 'step_2', 'step_1', 'start']\n",
    "\n",
    "    df_filtered = df[df['process_step'].isin(process_steps)]\n",
    "\n",
    "    latest_rows = df_filtered.loc[df_filtered.groupby(['client_id', 'process_step'])['date_time'].idxmax()]\n",
    "    latest_rows = latest_rows.sort_values(by=\"date_time\", ascending = True)\n",
    "    \n",
    "    return latest_rows\n",
    "\n",
    "#counting the number of valid process_steps to see if the filtering might had issues: \n",
    "#start > step_1 > step_2 > step_3 > confirm\n",
    "valid_df_total = validating_steps(df_df)\n",
    "valid_df_total[\"process_step\"].value_counts(), valid_df_total.shape\n"
   ]
  },
  {
   "cell_type": "code",
   "execution_count": null,
   "id": "a461fca1-aec7-4565-8c5e-ea069fb36a3c",
   "metadata": {},
   "outputs": [],
   "source": [
    "df_cp = df_cp_org.copy()\n",
    "df_cp.head()"
   ]
  },
  {
   "cell_type": "code",
   "execution_count": null,
   "id": "e6354f42-6933-4153-a392-02e1306ece6c",
   "metadata": {},
   "outputs": [],
   "source": [
    "#applying the filter of valid rows to client profile dataframe\n",
    "\n",
    "df_cp_valid = pd.merge(valid_df_total, df_cp, how=\"left\", on=\"client_id\")\n",
    "df_cp_valid"
   ]
  },
  {
   "cell_type": "code",
   "execution_count": null,
   "id": "3aa9d89b-cf19-4532-b141-7b05a3cc1370",
   "metadata": {},
   "outputs": [],
   "source": [
    "# importing experiment roster and removing invalid rows (no group assigned)\n",
    "\n",
    "df_er = df_er_org.copy()\n",
    "df_er = df_er.dropna()\n",
    "df_er.head(), df_er.shape"
   ]
  },
  {
   "cell_type": "code",
   "execution_count": null,
   "id": "dc9f6ec9-209a-4d5e-b9d7-e5e67d76c4dc",
   "metadata": {},
   "outputs": [],
   "source": [
    "#seperating the total valid df into testing and control group\n",
    "testing = df_er[df_er[\"Variation\"] == \"Test\"]\n",
    "testing = pd.merge(testing, df_cp_valid, how=\"left\", on=\"client_id\")\n",
    "testing.columns = testing.columns.str.lower().str.lstrip()\n",
    "\n",
    "control = df_er[df_er[\"Variation\"] == \"Control\"]\n",
    "control = pd.merge(control, df_cp_valid, how=\"left\", on=\"client_id\")\n",
    "control.columns = control.columns.str.lower().str.lstrip()\n",
    "\n",
    "\n",
    "\n",
    "control.variation.unique()\n",
    "control.shape\n",
    "control.head(30)"
   ]
  },
  {
   "cell_type": "code",
   "execution_count": null,
   "id": "ebbc9a93-f68b-4b6b-8946-3538a508e592",
   "metadata": {},
   "outputs": [],
   "source": [
    "testing = pd.merge(df_er, df_cp_valid, how=\"left\", on=\"client_id\")\n",
    "testing"
   ]
  }
 ],
 "metadata": {
  "kernelspec": {
   "display_name": "Python 3",
   "language": "python",
   "name": "python3"
  },
  "language_info": {
   "codemirror_mode": {
    "name": "ipython",
    "version": 3
   },
   "file_extension": ".py",
   "mimetype": "text/x-python",
   "name": "python",
   "nbconvert_exporter": "python",
   "pygments_lexer": "ipython3",
   "version": "3.12.6"
  }
 },
 "nbformat": 4,
 "nbformat_minor": 5
}
