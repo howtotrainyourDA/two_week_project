{
 "cells": [
  {
   "cell_type": "code",
   "execution_count": null,
   "metadata": {},
   "outputs": [],
   "source": [
    "import numpy as np\n",
    "import pandas as pd\n",
    "import matplotlib.pyplot as plt"
   ]
  },
  {
   "cell_type": "code",
   "execution_count": null,
   "metadata": {},
   "outputs": [],
   "source": [
    "df_1 = pd.read_csv(\"Client_Profiles.txt\")\n",
    "df_2 = pd.read_csv(\"Digital_Footprints_pt1.txt\")\n",
    "df_3 = pd.read_csv(\"Digital_Footprints_pt2.txt\")\n",
    "df_4 = pd.read_csv(\"Experiment_Roster.txt\")"
   ]
  },
  {
   "cell_type": "code",
   "execution_count": null,
   "metadata": {},
   "outputs": [],
   "source": [
    "df_1.head()"
   ]
  },
  {
   "cell_type": "code",
   "execution_count": null,
   "metadata": {},
   "outputs": [],
   "source": [
    "df_1.shape, df_2.shape, df_3.shape, df_4.shape"
   ]
  },
  {
   "cell_type": "code",
   "execution_count": null,
   "metadata": {},
   "outputs": [],
   "source": [
    "df_1.columns, df_2.columns, df_3.columns, df_4.columns"
   ]
  },
  {
   "cell_type": "code",
   "execution_count": null,
   "metadata": {},
   "outputs": [],
   "source": [
    "df_1.dtypes"
   ]
  },
  {
   "cell_type": "code",
   "execution_count": null,
   "metadata": {},
   "outputs": [],
   "source": [
    "df_1.isnull().sum()"
   ]
  },
  {
   "cell_type": "code",
   "execution_count": null,
   "metadata": {},
   "outputs": [],
   "source": [
    "df_1[\"gendr\"].unique()"
   ]
  },
  {
   "cell_type": "code",
   "execution_count": null,
   "metadata": {},
   "outputs": [],
   "source": [
    "df_1 = df_1.dropna()\n"
   ]
  },
  {
   "cell_type": "code",
   "execution_count": null,
   "metadata": {},
   "outputs": [],
   "source": [
    "df_2.head()"
   ]
  },
  {
   "cell_type": "code",
   "execution_count": null,
   "metadata": {},
   "outputs": [],
   "source": [
    "df_2.dtypes"
   ]
  },
  {
   "cell_type": "code",
   "execution_count": null,
   "metadata": {},
   "outputs": [],
   "source": [
    "df_2[\"date_time\"] = pd.to_datetime(df_2[\"date_time\"])\n"
   ]
  },
  {
   "cell_type": "code",
   "execution_count": null,
   "metadata": {},
   "outputs": [],
   "source": [
    "df_2.isna().sum()"
   ]
  },
  {
   "cell_type": "code",
   "execution_count": null,
   "metadata": {},
   "outputs": [],
   "source": [
    "df_3.head()"
   ]
  },
  {
   "cell_type": "code",
   "execution_count": null,
   "metadata": {},
   "outputs": [],
   "source": [
    "df_3[\"date_time\"] = pd.to_datetime(df_3[\"date_time\"])\n"
   ]
  },
  {
   "cell_type": "code",
   "execution_count": null,
   "metadata": {},
   "outputs": [],
   "source": [
    "df_3.isna().sum()"
   ]
  },
  {
   "cell_type": "code",
   "execution_count": null,
   "metadata": {},
   "outputs": [],
   "source": [
    "digital_footprints_df = pd.concat([df_2, df_3])"
   ]
  },
  {
   "cell_type": "code",
   "execution_count": null,
   "metadata": {},
   "outputs": [],
   "source": [
    "digital_footprints_df.shape"
   ]
  },
  {
   "cell_type": "code",
   "execution_count": null,
   "metadata": {},
   "outputs": [],
   "source": [
    "df_4.head()"
   ]
  },
  {
   "cell_type": "code",
   "execution_count": null,
   "metadata": {},
   "outputs": [],
   "source": [
    "df_4.dtypes"
   ]
  },
  {
   "cell_type": "code",
   "execution_count": null,
   "metadata": {},
   "outputs": [],
   "source": [
    "df_4.isna().sum()"
   ]
  },
  {
   "cell_type": "code",
   "execution_count": null,
   "metadata": {},
   "outputs": [],
   "source": [
    "df_4 = df_4.dropna()\n"
   ]
  },
  {
   "cell_type": "code",
   "execution_count": null,
   "metadata": {},
   "outputs": [],
   "source": [
    "df_4 = df_4.rename(columns={\"Variation\": \"variation\"})"
   ]
  },
  {
   "cell_type": "code",
   "execution_count": null,
   "metadata": {},
   "outputs": [],
   "source": [
    "merged_df = pd.merge(digital_footprints_df, df_4, on='client_id')\n"
   ]
  },
  {
   "cell_type": "code",
   "execution_count": null,
   "metadata": {},
   "outputs": [],
   "source": [
    "merged_df.shape"
   ]
  },
  {
   "cell_type": "code",
   "execution_count": null,
   "metadata": {},
   "outputs": [],
   "source": [
    "merged_df.isna().sum()"
   ]
  },
  {
   "cell_type": "code",
   "execution_count": null,
   "metadata": {},
   "outputs": [],
   "source": [
    "merged_df.shape"
   ]
  },
  {
   "cell_type": "code",
   "execution_count": null,
   "metadata": {},
   "outputs": [],
   "source": [
    "merged_df[\"process_step\"].value_counts()"
   ]
  },
  {
   "cell_type": "markdown",
   "metadata": {},
   "source": [
    "##### TEST AND CONTROL DF"
   ]
  },
  {
   "cell_type": "code",
   "execution_count": null,
   "metadata": {},
   "outputs": [],
   "source": [
    "test_filter_V2 = merged_df.loc[merged_df[\"variation\"] == \"Test\"]\n",
    "test_control_V2 = merged_df.loc[merged_df[\"variation\"] == \"Control\"]"
   ]
  },
  {
   "cell_type": "markdown",
   "metadata": {},
   "source": [
    "##### FREQUENCY BY STEP FOR TEST GROUP"
   ]
  },
  {
   "cell_type": "code",
   "execution_count": null,
   "metadata": {},
   "outputs": [],
   "source": [
    "\n",
    "df_last_step_test_V2 = test_filter_V2.sort_values(by=['client_id', 'date_time']) \n",
    "df_last_step_test_V2 = df_last_step_test_V2.groupby('client_id').last().reset_index()\n",
    "\n",
    "df_last_step_test_frequency_V2 = df_last_step_test_V2[\"process_step\"].value_counts()\n",
    "df_last_step_test_frequency_V2 = df_last_step_test_frequency_V2.reset_index()\n",
    "df_last_step_test_frequency_V2.columns = ['step', 'frequency']\n",
    "\n",
    "df_last_step_test_frequency_V2.head()"
   ]
  },
  {
   "cell_type": "markdown",
   "metadata": {},
   "source": [
    "##### FREQUENCY BY STEP FOR CONTROL GROUP"
   ]
  },
  {
   "cell_type": "code",
   "execution_count": null,
   "metadata": {},
   "outputs": [],
   "source": [
    "df_last_step_control_V2 = test_control_V2.sort_values(by=['client_id', 'date_time']) \n",
    "df_last_step_control_V2 = df_last_step_control_V2.groupby('client_id').last().reset_index()\n",
    "\n",
    "df_last_step_control_frequency_V2 = df_last_step_control_V2[\"process_step\"].value_counts()\n",
    "df_last_step_control_frequency_V2 = df_last_step_control_frequency_V2.reset_index()\n",
    "df_last_step_control_frequency_V2.columns = ['step', 'frequency']\n",
    "\n",
    "df_last_step_control_frequency_V2.head()"
   ]
  },
  {
   "cell_type": "markdown",
   "metadata": {},
   "source": [
    "#### AGE GROUP"
   ]
  },
  {
   "cell_type": "code",
   "execution_count": null,
   "metadata": {},
   "outputs": [],
   "source": [
    "df_1.describe()"
   ]
  },
  {
   "cell_type": "code",
   "execution_count": null,
   "metadata": {},
   "outputs": [],
   "source": [
    "df_1['age_group'] = pd.cut(\n",
    "    df_1['clnt_age'], \n",
    "    bins=[0, 18, 25, 35, 50, 65, 100], \n",
    "    labels=['<18', '18-25', '26-35', '36-50', '51-65', '65+']\n",
    ")\n",
    "\n",
    "\n",
    "age_distribution = df_1['age_group'].value_counts()\n",
    "age_distribution = age_distribution.reset_index()\n",
    "age_distribution.columns = ['age_group', 'frequency']\n",
    "\n",
    "age_distribution.head()"
   ]
  },
  {
   "cell_type": "markdown",
   "metadata": {},
   "source": [
    "##### TENURE GROUP"
   ]
  },
  {
   "cell_type": "code",
   "execution_count": null,
   "metadata": {},
   "outputs": [],
   "source": [
    "\n",
    "df_1['tenure_months'] = df_1['clnt_tenure_yr'] * 12 + df_1['clnt_tenure_mnth']\n",
    "\n",
    "df_1['tenure_group'] = pd.cut(\n",
    "    df_1['tenure_months'], \n",
    "    bins=[0, 12, 36, 60, 120, 240], \n",
    "    labels=['<1 year', '1-3 years', '3-5 years', '5-10 years', '10+ years']\n",
    ")\n",
    "\n",
    "tenure_distribution = df_1['tenure_group'].value_counts()\n",
    "tenure_distribution = tenure_distribution.reset_index()\n",
    "tenure_distribution.columns = ['tenure_group', 'frequency']\n",
    "\n",
    "tenure_distribution.head()\n",
    "\n"
   ]
  },
  {
   "cell_type": "code",
   "execution_count": null,
   "metadata": {},
   "outputs": [],
   "source": [
    "# Table croisée âge et ancienneté\n",
    "age_tenure_analysis = pd.crosstab(df_1['age_group'], df_1['tenure_group'])\n"
   ]
  },
  {
   "cell_type": "code",
   "execution_count": null,
   "metadata": {},
   "outputs": [],
   "source": [
    "age_tenure_analysis.head()"
   ]
  },
  {
   "cell_type": "code",
   "execution_count": null,
   "metadata": {},
   "outputs": [],
   "source": [
    "fig, ax = plt.subplots(figsize=(8, 6))\n",
    "cax = ax.matshow(age_tenure_analysis, cmap='coolwarm')\n",
    "\n",
    "# Add colorbar\n",
    "fig.colorbar(cax)\n",
    "\n",
    "# Add labels to the axes\n",
    "ax.set_xticks(range(len(age_tenure_analysis.columns)))\n",
    "ax.set_yticks(range(len(age_tenure_analysis.index)))\n",
    "ax.set_xticklabels(age_tenure_analysis.columns, rotation=45)\n",
    "ax.set_yticklabels(age_tenure_analysis.index)\n",
    "\n",
    "# Add title and labels\n",
    "ax.set_title('Heatmap: Age Group vs Tenure Group', pad=20)\n",
    "ax.set_xlabel('Tenure Group')\n",
    "ax.set_ylabel('Age Group')\n",
    "\n",
    "# Annotate the cells with values\n",
    "for (i, j), val in np.ndenumerate(age_tenure_analysis.values):\n",
    "    ax.text(j, i, int(val) if not np.isnan(val) else '', ha='center', va='center', color='black')\n",
    "\n",
    "# Show the plot\n",
    "plt.tight_layout()\n",
    "plt.show()"
   ]
  }
 ],
 "metadata": {
  "kernelspec": {
   "display_name": "Python 3 (ipykernel)",
   "language": "python",
   "name": "python3"
  },
  "language_info": {
   "codemirror_mode": {
    "name": "ipython",
    "version": 3
   },
   "file_extension": ".py",
   "mimetype": "text/x-python",
   "name": "python",
   "nbconvert_exporter": "python",
   "pygments_lexer": "ipython3",
   "version": "3.12.4"
  }
 },
 "nbformat": 4,
 "nbformat_minor": 4
}
