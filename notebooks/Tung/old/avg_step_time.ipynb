{
 "cells": [
  {
   "cell_type": "code",
   "execution_count": null,
   "metadata": {},
   "outputs": [],
   "source": [
    "import numpy as np\n",
    "import pandas as pd\n",
    "import matplotlib.pyplot as plt"
   ]
  },
  {
   "cell_type": "code",
   "execution_count": null,
   "metadata": {},
   "outputs": [],
   "source": [
    "df_1 = pd.read_csv(r\"..\\..\\data\\clean\\all_clients.csv\")\n",
    "df_2 = pd.read_csv(r\"..\\..\\data\\clean\\control_filter.csv\")\n",
    "df_3 = pd.read_csv(r\"..\\..\\data\\clean\\test_filter.csv\")"
   ]
  },
  {
   "cell_type": "code",
   "execution_count": null,
   "metadata": {},
   "outputs": [],
   "source": [
    "\"\"\"\n",
    "input: df\n",
    "output: df\n",
    "\n",
    "function to extract only the latest session per client based on visit_id\n",
    "\n",
    "\"\"\"\n",
    "\n",
    "def valid_session(df: pd.DataFrame) -> pd.DataFrame:\n",
    "    df['date_time'] = pd.to_datetime(df['date_time'])\n",
    "    \n",
    "    most_recent_sessions = df.loc[df.groupby('client_id')['date_time'].idxmax()]\n",
    "    \n",
    "    df_recent = df[df['visit_id'].isin(most_recent_sessions['visit_id'])]\n",
    "    \n",
    "    df_recent = df_recent.sort_values(by=['client_id', 'visitor_id', 'date_time'])\n",
    "\n",
    "    return df_recent\n",
    "\n",
    "\n",
    "df_1 = valid_session(df_1)\n",
    "\n",
    "\n",
    "step_mapping = {\n",
    "        'start': 0,\n",
    "        'step_1': 1,\n",
    "        'step_2': 2,\n",
    "        'step_3': 3,\n",
    "        'confirm': 4\n",
    "    }\n",
    "\"\"\"\n",
    "input: df\n",
    "output: df\n",
    "\n",
    "function to map \"process_step\" for easier sorting of process steps\n",
    "\"\"\"\n",
    "\n",
    "def step_map(df):\n",
    "    df[\"process_step_num\"] = df[\"process_step\"].map(step_mapping)\n",
    "    df = df.sort_values(by=[\"client_id\", \"process_step_num\"], ascending = True)\n",
    "\n",
    "    return df\n",
    "\n",
    "step_map(df_1)\n",
    "\n",
    "df_1.tail()"
   ]
  },
  {
   "cell_type": "code",
   "execution_count": null,
   "metadata": {},
   "outputs": [],
   "source": [
    "\"\"\"\n",
    "input: df\n",
    "output: df\n",
    "\n",
    "function for total average step time and start-to-confirm\n",
    "\"\"\"\n",
    "\n",
    "def calculate_avg_time(df):\n",
    "    df['date_time'] = pd.to_datetime(df['date_time'])\n",
    "\n",
    "    df.sort_values(by=['visit_id', 'date_time'], inplace=True)\n",
    "\n",
    "    df['time_diff'] = df.groupby('visit_id')['date_time'].diff()\n",
    "\n",
    "    # Filter out rows where time_diff is NaT (first row of each visit_id)\n",
    "    df = df.dropna(subset=['time_diff'])\n",
    "\n",
    "    average_time_per_step = df.groupby('process_step')['time_diff'].mean()\n",
    "\n",
    "    #convert date_time to seconds\n",
    "    average_time_per_step = average_time_per_step.dt.total_seconds()\n",
    "\n",
    "    start_confirm_df = df[df['process_step'].isin(['start', 'confirm'])]\n",
    "\n",
    "    start_confirm_df.loc[:, 'time_diff'] = start_confirm_df.groupby('visit_id')['date_time'].diff()\n",
    "\n",
    "    #keep only \"confirm\" rows\n",
    "    start_to_confirm_time = start_confirm_df[start_confirm_df['process_step'] == 'confirm']\n",
    "\n",
    "    avg_time_start_to_confirm = start_to_confirm_time['time_diff'].mean().total_seconds()  / 60\n",
    "\n",
    "    \n",
    "    print(\"Average time per process step (in seconds):\")\n",
    "    print(average_time_per_step.round(2))\n",
    "\n",
    "    print(f\"\\nAverage time from 'start' to 'confirm': {avg_time_start_to_confirm} min / {avg_time_start_to_confirm * 60} seconds\")\n",
    "\n",
    "calculate_avg_time(df_1)\n"
   ]
  }
 ],
 "metadata": {
  "kernelspec": {
   "display_name": "Python 3",
   "language": "python",
   "name": "python3"
  },
  "language_info": {
   "codemirror_mode": {
    "name": "ipython",
    "version": 3
   },
   "file_extension": ".py",
   "mimetype": "text/x-python",
   "name": "python",
   "nbconvert_exporter": "python",
   "pygments_lexer": "ipython3",
   "version": "3.12.6"
  }
 },
 "nbformat": 4,
 "nbformat_minor": 2
}
