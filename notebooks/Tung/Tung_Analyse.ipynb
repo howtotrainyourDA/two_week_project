{
 "cells": [
  {
   "cell_type": "code",
   "execution_count": null,
   "id": "1c30a2c6-c72a-4436-b353-fa4514c7bece",
   "metadata": {},
   "outputs": [],
   "source": [
    "import numpy as np\n",
    "import pandas as pd\n",
    "import matplotlib.pyplot as plt"
   ]
  },
  {
   "cell_type": "code",
   "execution_count": null,
   "id": "a708b1f3-b16d-4aa3-a9da-c6367ad5d5c6",
   "metadata": {},
   "outputs": [],
   "source": [
    "df_1 = pd.read_csv(r\"..\\..\\data\\clean\\all_clients.csv\")\n",
    "df_2 = pd.read_csv(r\"..\\..\\data\\clean\\control_filter.csv\")\n",
    "df_3 = pd.read_csv(r\"..\\..\\data\\clean\\test_filter.csv\")"
   ]
  },
  {
   "cell_type": "code",
   "execution_count": null,
   "id": "db799894-ef47-4969-b1cd-0e45a698d399",
   "metadata": {},
   "outputs": [],
   "source": [
    "def drop_columns(df):\n",
    "    df = df.drop(columns=['Unnamed: 0'])\n",
    "    return df\n",
    "\n",
    "df_1 = drop_columns(df_1)\n",
    "df_2 = drop_columns(df_2)\n",
    "df_3 = drop_columns(df_3)\n"
   ]
  },
  {
   "cell_type": "code",
   "execution_count": null,
   "id": "d3f567f1",
   "metadata": {},
   "outputs": [],
   "source": [
    "df_1[df_1[\"client_id\"] == 9998964 ]"
   ]
  },
  {
   "cell_type": "code",
   "execution_count": null,
   "id": "c0db09f7",
   "metadata": {},
   "outputs": [],
   "source": [
    "df_1[df_1[\"client_id\"] == 9998346 ].sort_values(by=\"date_time\", ascending = True)"
   ]
  },
  {
   "cell_type": "code",
   "execution_count": null,
   "id": "04e5b280",
   "metadata": {},
   "outputs": [],
   "source": [
    "def valid_session(df: pd.DataFrame) -> pd.DataFrame:\n",
    "    # Convert the 'date_time' column to datetime format\n",
    "    df['date_time'] = pd.to_datetime(df['date_time'])\n",
    "    \n",
    "    # Get the most recent session for each client (the latest visit_id per client)\n",
    "    most_recent_sessions = df.loc[df.groupby('client_id')['date_time'].idxmax()]\n",
    "    \n",
    "    # Now filter the data to include only the most recent sessions\n",
    "    df_recent = df[df['visit_id'].isin(most_recent_sessions['visit_id'])]\n",
    "    \n",
    "    # Sort by client_id, visitor_id, and date_time to make sure steps are in correct order\n",
    "    df_recent = df_recent.sort_values(by=['client_id', 'visitor_id', 'date_time'])\n",
    "\n",
    "    return df_recent\n",
    "\n",
    "\n",
    "df_1 = valid_session(df_1)"
   ]
  },
  {
   "cell_type": "code",
   "execution_count": null,
   "id": "7545a18b",
   "metadata": {},
   "outputs": [],
   "source": [
    "df_1[df_1[\"client_id\"] == 9998964 ]"
   ]
  },
  {
   "cell_type": "code",
   "execution_count": null,
   "id": "c5f3c116",
   "metadata": {},
   "outputs": [],
   "source": [
    "df_1[df_1[\"client_id\"] == 9998346 ].sort_values(by=\"date_time\", ascending = True)"
   ]
  },
  {
   "cell_type": "code",
   "execution_count": null,
   "id": "89ac5e56",
   "metadata": {},
   "outputs": [],
   "source": [
    "step_mapping = {\n",
    "        'start': 0,\n",
    "        'step_1': 1,\n",
    "        'step_2': 2,\n",
    "        'step_3': 3,\n",
    "        'confirm': 4\n",
    "    }\n",
    "def step_map(df):\n",
    "    df[\"process_step_num\"] = df[\"process_step\"].map(step_mapping)\n",
    "    df = df.sort_values(by=[\"client_id\", \"process_step_num\"], ascending = True)\n",
    "\n",
    "    return df\n"
   ]
  },
  {
   "cell_type": "code",
   "execution_count": null,
   "id": "63ce1239",
   "metadata": {},
   "outputs": [],
   "source": []
  },
  {
   "cell_type": "code",
   "execution_count": null,
   "id": "0a2da7b5",
   "metadata": {},
   "outputs": [],
   "source": [
    "def total_time(df: pd.DataFrame) -> pd.DataFrame:\n",
    "    # Calculate the time difference between consecutive steps for each client and visitor\n",
    "    df['time_diff'] = df.groupby(['client_id', 'visitor_id'])['date_time'].diff()\n",
    "    \n",
    "    # Convert the time_diff to total seconds (ignoring the days part)\n",
    "    df['total_seconds'] = df['time_diff'].dt.total_seconds()\n",
    "    \n",
    "    # Now, convert total_seconds to hours, minutes, and seconds\n",
    "    df['formatted_time'] = pd.to_datetime(df['total_seconds'], unit='s').dt.strftime('%H:%M:%S')\n",
    "    \n",
    "    # Group by 'client_id' and 'process_step' and sum the time differences\n",
    "    total_time_per_client_step = df.groupby(['client_id', 'process_step'])['total_seconds'].sum().reset_index()\n",
    "    \n",
    "    # Convert the total seconds back to formatted time\n",
    "    total_time_per_client_step['formatted_time'] = pd.to_datetime(total_time_per_client_step['total_seconds'], unit='s').dt.strftime('%H:%M:%S')\n",
    "    \n",
    "    # Drop the 'total_seconds' column, if you only want the formatted time\n",
    "    total_time_per_client_step = total_time_per_client_step.drop(columns=['total_seconds'])\n",
    "\n",
    "    #total_time_per_client_step = total_time_per_client_step[total_time_per_client_step['process_step'] != 'start']\n",
    "\n",
    "    \n",
    "    # Return the result\n",
    "    return total_time_per_client_step\n",
    "\n",
    "# Example usage:\n",
    "# Assuming df_1 is your DataFrame\n",
    "total_time_result = total_time(df_1)\n",
    "total_time_result = step_map(total_time_result)"
   ]
  },
  {
   "cell_type": "code",
   "execution_count": null,
   "id": "3194ecf6",
   "metadata": {},
   "outputs": [],
   "source": [
    "total_time_result.tail(50)"
   ]
  },
  {
   "cell_type": "code",
   "execution_count": null,
   "id": "609d2f1d",
   "metadata": {},
   "outputs": [],
   "source": [
    "total_time_result[total_time_result[\"client_id\"] == 9999729].sort_values(by =\"process_step_num\", ascending=True)\n",
    "total_time_result[total_time_result[\"client_id\"] == 9998346].sort_values(by =\"process_step_num\", ascending=True)\n"
   ]
  },
  {
   "cell_type": "code",
   "execution_count": null,
   "id": "560310ba",
   "metadata": {},
   "outputs": [],
   "source": [
    "df_1[df_1[\"client_id\"] == 9998964].sort_values(by=\"date_time\", ascending=True)"
   ]
  },
  {
   "cell_type": "code",
   "execution_count": null,
   "id": "ecc6e6cd",
   "metadata": {},
   "outputs": [],
   "source": [
    "# Function to calculate total average time per step and from start to confirm (overall)\n",
    "def calculate_total_avg_times(df: pd.DataFrame) -> pd.DataFrame:\n",
    "    # Convert the 'date_time' column to datetime format\n",
    "    df['date_time'] = pd.to_datetime(df['date_time'])\n",
    "    \n",
    "    # Calculate the time difference between consecutive steps\n",
    "    df['time_diff'] = df.groupby(['client_id', 'visitor_id'])['date_time'].diff()\n",
    "    \n",
    "    # Remove rows where time_diff is NaT (e.g., the first step in a session)\n",
    "    df = df.dropna(subset=['time_diff'])\n",
    "    \n",
    "    # Calculate the total average time per step (for all clients)\n",
    "    total_time_per_step = df.groupby('process_step')['time_diff'].mean().reset_index()\n",
    "\n",
    "    # Format total time per step as seconds\n",
    "    total_time_per_step['total_seconds'] = total_time_per_step['time_diff'].dt.total_seconds()\n",
    "\n",
    "    total_time_per_step['total_seconds'] = total_time_per_step['total_seconds'].round(2)\n",
    "    # Calculate the total average time from \"start\" to \"confirm\" for all clients\n",
    "    # Filter the data to only \"start\" and \"confirm\" steps\n",
    "    start_to_confirm_time = df[df['process_step'].isin(['start', 'confirm'])]\n",
    "    \n",
    "    # Merge the \"start\" and \"confirm\" steps for each client\n",
    "    start_to_confirm_time = start_to_confirm_time.pivot_table(\n",
    "        index=['client_id', 'visitor_id'],\n",
    "        columns='process_step',\n",
    "        values='date_time',\n",
    "        aggfunc='first'\n",
    "    ).reset_index()\n",
    "    \n",
    "    # Calculate the time difference from \"start\" to \"confirm\"\n",
    "    start_to_confirm_time['start_to_confirm_diff'] = start_to_confirm_time['confirm'] - start_to_confirm_time['start']\n",
    "    \n",
    "    # Calculate the total seconds for start to confirm time\n",
    "    start_to_confirm_time['total_seconds'] = start_to_confirm_time['start_to_confirm_diff'].dt.total_seconds()\n",
    "    \n",
    "    # Calculate the total average time from \"start\" to \"confirm\"\n",
    "    avg_start_to_confirm = start_to_confirm_time['total_seconds'].mean()\n",
    "\n",
    "    # Return both results: total_time_per_step and avg_start_to_confirm\n",
    "    return total_time_per_step, avg_start_to_confirm\n",
    "\n",
    "# Example usage:\n",
    "# Assuming df_1 is your DataFrame and it contains the relevant data\n",
    "total_time_per_step, avg_start_to_confirm = calculate_total_avg_times(df_1)\n",
    "\n",
    "# Display results\n",
    "print(\"Total average time per step:\")\n",
    "print(total_time_per_step)\n",
    "print(f\"\\nTotal average time from 'start' to 'confirm': {avg_start_to_confirm: .2f} seconds\")\n"
   ]
  },
  {
   "cell_type": "code",
   "execution_count": null,
   "id": "6aeb57f1",
   "metadata": {},
   "outputs": [],
   "source": [
    "import pandas as pd\n",
    "\n",
    "def calculate_total_avg_times(df):\n",
    "    # Convert the date_time column to datetime if it's not already\n",
    "    df['date_time'] = pd.to_datetime(df['date_time'])\n",
    "    \n",
    "    # Sort by visitor_id and date_time to ensure steps are in the correct order\n",
    "    df = df.sort_values(by=['visitor_id', 'date_time'])\n",
    "    \n",
    "    # Calculate time_diff and total_seconds\n",
    "    df['time_diff'] = df.groupby('visitor_id')['date_time'].diff().fillna(pd.Timedelta(seconds=0))\n",
    "    df['total_seconds'] = df['time_diff'].dt.total_seconds()\n",
    "    \n",
    "    # Set the time_diff for the 'start' step to 0 since it's the beginning\n",
    "    df.loc[df['process_step'] == 'start', 'total_seconds'] = 0\n",
    "    df['formatted_time'] = df['time_diff'].apply(lambda x: str(x) if x != pd.Timedelta(seconds=0) else '00:00:00')\n",
    "    \n",
    "    # Calculate total time spent on each step (grouping by process_step)\n",
    "    total_time_per_step = df.groupby('process_step')['total_seconds'].sum().reset_index()\n",
    "    \n",
    "    # Calculate average time between start and confirm for each visitor\n",
    "    start_to_confirm_avg = df[df['process_step'] == 'start'].merge(\n",
    "        df[df['process_step'] == 'confirm'], on='visitor_id', suffixes=('_start', '_confirm')\n",
    "    )\n",
    "    start_to_confirm_avg['start_to_confirm'] = (\n",
    "        start_to_confirm_avg['date_time_confirm'] - start_to_confirm_avg['date_time_start']\n",
    "    ).dt.total_seconds()\n",
    "    \n",
    "    avg_start_to_confirm = start_to_confirm_avg['start_to_confirm'].mean()\n",
    "    \n",
    "    return total_time_per_step, avg_start_to_confirm\n",
    "\n",
    "\n",
    "\n",
    "\n",
    "# Call the function to calculate total time per step and average time between start and confirm\n",
    "total_time_per_step, avg_start_to_confirm = calculate_total_avg_times(df_1)\n",
    "\n",
    "# Display the results\n",
    "print(\"Total Time per Step:\\n\", total_time_per_step)\n",
    "print(\"Average Time from 'Start' to 'Confirm' (in seconds):\", avg_start_to_confirm)\n"
   ]
  },
  {
   "cell_type": "code",
   "execution_count": null,
   "id": "87b30fac",
   "metadata": {},
   "outputs": [],
   "source": [
    "import pandas as pd\n",
    "\n",
    "# Sample data (same as before)\n",
    "\n",
    "def whatever (df):\n",
    "# Convert to datetime\n",
    "    df['date_time'] = pd.to_datetime(df['date_time'])\n",
    "\n",
    "# Sort by visitor_id and date_time to maintain proper order\n",
    "    df = df.sort_values(by=['visitor_id', 'date_time'])\n",
    "\n",
    "# Calculate time_diff and total_seconds\n",
    "    df['time_diff'] = df.groupby('visitor_id')['date_time'].diff().fillna(pd.Timedelta(seconds=0))\n",
    "    df['total_seconds'] = df['time_diff'].dt.total_seconds()\n",
    "\n",
    "# Manually set the total_seconds for 'start' step to 0\n",
    "    df.loc[df['process_step'] == 'start', 'total_seconds'] = 0\n",
    "\n",
    "# Display intermediate results\n",
    "    print(df[['visitor_id', 'process_step', 'date_time', 'time_diff', 'total_seconds']])\n",
    "\n",
    "whatever(df_1)\n",
    "\n",
    "def total_time_pho_real(df):\n",
    "# Calculate total time per step\n",
    "    total_time_per_step = df.groupby('process_step')['total_seconds'].sum().reset_index()\n",
    "\n",
    "# Calculate time between 'start' and 'confirm' for each visitor\n",
    "    start_to_confirm_avg = df[df['process_step'] == 'start'].merge(\n",
    "    df[df['process_step'] == 'confirm'], on='visitor_id', suffixes=('_start', '_confirm')\n",
    "    )\n",
    "    start_to_confirm_avg['start_to_confirm'] = (\n",
    "    start_to_confirm_avg['date_time_confirm'] - start_to_confirm_avg['date_time_start']\n",
    "    ).dt.total_seconds()\n",
    "\n",
    "    # Average time from 'start' to 'confirm'\n",
    "    avg_start_to_confirm = start_to_confirm_avg['start_to_confirm'].mean()\n",
    "\n",
    "# Display results\n",
    "    print(\"Total Time per Step:\\n\", total_time_per_step)\n",
    "    print(\"Average Time from 'Start' to 'Confirm' (in seconds):\", avg_start_to_confirm)\n",
    "\n",
    "\n",
    "total_time_pho_real(df_1)"
   ]
  }
 ],
 "metadata": {
  "kernelspec": {
   "display_name": "Python 3",
   "language": "python",
   "name": "python3"
  },
  "language_info": {
   "codemirror_mode": {
    "name": "ipython",
    "version": 3
   },
   "file_extension": ".py",
   "mimetype": "text/x-python",
   "name": "python",
   "nbconvert_exporter": "python",
   "pygments_lexer": "ipython3",
   "version": "3.12.6"
  }
 },
 "nbformat": 4,
 "nbformat_minor": 5
}
