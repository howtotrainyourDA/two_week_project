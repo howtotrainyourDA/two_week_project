{
 "cells": [
  {
   "cell_type": "code",
   "execution_count": null,
   "id": "1c30a2c6-c72a-4436-b353-fa4514c7bece",
   "metadata": {},
   "outputs": [],
   "source": [
    "import numpy as np\n",
    "import pandas as pd\n",
    "import matplotlib.pyplot as plt"
   ]
  },
  {
   "cell_type": "code",
   "execution_count": null,
   "id": "a708b1f3-b16d-4aa3-a9da-c6367ad5d5c6",
   "metadata": {},
   "outputs": [],
   "source": [
    "df_1 = pd.read_csv(r\"..\\..\\data\\raw\\Client_Profiles.txt\")\n",
    "df_2 = pd.read_csv(r\"..\\..\\data\\raw\\Digital_Footprints_pt1.txt\")\n",
    "df_3 = pd.read_csv(r\"..\\..\\data\\raw\\Digital_Footprints_pt2.txt\")\n",
    "df_4 = pd.read_csv(r\"..\\..\\data\\raw\\Experiment_Roster.txt\")"
   ]
  },
  {
   "cell_type": "code",
   "execution_count": null,
   "id": "db799894-ef47-4969-b1cd-0e45a698d399",
   "metadata": {},
   "outputs": [],
   "source": [
    "df_1.head()"
   ]
  },
  {
   "cell_type": "code",
   "execution_count": null,
   "id": "29123784-1f95-4f4a-8db0-03e4dd50f9f0",
   "metadata": {},
   "outputs": [],
   "source": [
    "df_1.shape, df_2.shape, df_3.shape, df_4.shape"
   ]
  },
  {
   "cell_type": "code",
   "execution_count": null,
   "id": "174d47d8-5422-4bdd-9ad1-f5d65eb4e140",
   "metadata": {},
   "outputs": [],
   "source": [
    "df_1.columns, df_2.columns, df_3.columns, df_4.columns"
   ]
  },
  {
   "cell_type": "code",
   "execution_count": null,
   "id": "ca09f7d1-24f7-493e-972b-db6e4a4b194b",
   "metadata": {},
   "outputs": [],
   "source": [
    "df_1.dtypes"
   ]
  },
  {
   "cell_type": "code",
   "execution_count": null,
   "id": "604ee200-46e6-4802-8bbb-e53f4ca537d4",
   "metadata": {},
   "outputs": [],
   "source": [
    "df_1.isnull().sum()"
   ]
  },
  {
   "cell_type": "code",
   "execution_count": null,
   "id": "c282eb98-e228-4dc9-8d72-41b1bd2f51d3",
   "metadata": {},
   "outputs": [],
   "source": [
    "df_1[\"gendr\"].unique()"
   ]
  },
  {
   "cell_type": "code",
   "execution_count": null,
   "id": "927a00d8-e809-4759-a50d-1f5697ded632",
   "metadata": {},
   "outputs": [],
   "source": [
    "df_1 = df_1.dropna()\n"
   ]
  },
  {
   "cell_type": "code",
   "execution_count": null,
   "id": "918619d4-2f12-4b07-bc29-e3ff3bd93419",
   "metadata": {},
   "outputs": [],
   "source": [
    "df_2.head()"
   ]
  },
  {
   "cell_type": "code",
   "execution_count": null,
   "id": "ebc43070-2657-429f-be1c-53494acdb75d",
   "metadata": {},
   "outputs": [],
   "source": [
    "df_2.dtypes"
   ]
  },
  {
   "cell_type": "code",
   "execution_count": null,
   "id": "0226ddff-b7e3-43e9-930d-c555e150059e",
   "metadata": {},
   "outputs": [],
   "source": [
    "df_2[\"date_time\"] = pd.to_datetime(df_2[\"date_time\"])\n"
   ]
  },
  {
   "cell_type": "code",
   "execution_count": null,
   "id": "79869126-a3bf-4062-a2bf-0674a23a9719",
   "metadata": {},
   "outputs": [],
   "source": [
    "df_2.isna().sum()"
   ]
  },
  {
   "cell_type": "code",
   "execution_count": null,
   "id": "c53527d3-db5a-40c6-8e74-3cf2683092f2",
   "metadata": {},
   "outputs": [],
   "source": [
    "df_3.head()"
   ]
  },
  {
   "cell_type": "code",
   "execution_count": null,
   "id": "aa1f6db5-753c-4501-99ba-07669795aa26",
   "metadata": {},
   "outputs": [],
   "source": [
    "df_3[\"date_time\"] = pd.to_datetime(df_3[\"date_time\"])\n"
   ]
  },
  {
   "cell_type": "code",
   "execution_count": null,
   "id": "a56aa210-481d-43f9-ad3c-897c2b44005c",
   "metadata": {},
   "outputs": [],
   "source": [
    "df_3.isna().sum()"
   ]
  },
  {
   "cell_type": "code",
   "execution_count": null,
   "id": "595ae541-6c3e-4677-a2ef-257b017c1389",
   "metadata": {},
   "outputs": [],
   "source": [
    "digital_footprints_df = pd.concat([df_2, df_3])"
   ]
  },
  {
   "cell_type": "code",
   "execution_count": null,
   "id": "bf33ebce-c7af-4fe9-b08a-caa103b710e2",
   "metadata": {},
   "outputs": [],
   "source": [
    "digital_footprints_df.shape"
   ]
  },
  {
   "cell_type": "code",
   "execution_count": null,
   "id": "13ad9322-b089-4a47-9c79-e2647a286165",
   "metadata": {},
   "outputs": [],
   "source": [
    "df_4.head()"
   ]
  },
  {
   "cell_type": "code",
   "execution_count": null,
   "id": "6c9a28d1-f403-46d2-9e8f-192157e10cad",
   "metadata": {},
   "outputs": [],
   "source": [
    "df_4.dtypes"
   ]
  },
  {
   "cell_type": "code",
   "execution_count": null,
   "id": "8ddc0dba-da53-47ba-8144-fc1291296928",
   "metadata": {},
   "outputs": [],
   "source": [
    "df_4.isna().sum()"
   ]
  },
  {
   "cell_type": "code",
   "execution_count": null,
   "id": "644e3978-a9af-42f0-8242-dc659fc8d61d",
   "metadata": {},
   "outputs": [],
   "source": [
    "df_4 = df_4.dropna()\n"
   ]
  },
  {
   "cell_type": "code",
   "execution_count": null,
   "id": "001b4546-b5f7-436c-b888-a1a913feb5c9",
   "metadata": {},
   "outputs": [],
   "source": [
    "df_4 = df_4.rename(columns={\"Variation\": \"variation\"})"
   ]
  },
  {
   "cell_type": "code",
   "execution_count": null,
   "id": "eacb86fa-9ffd-4812-9035-60f0e8b8826a",
   "metadata": {},
   "outputs": [],
   "source": [
    "merged_df = pd.merge(digital_footprints_df, df_4, on='client_id')\n"
   ]
  },
  {
   "cell_type": "code",
   "execution_count": null,
   "id": "75ddcba2-2b6d-4305-8481-bb7487138215",
   "metadata": {},
   "outputs": [],
   "source": [
    "merged_df.shape"
   ]
  },
  {
   "cell_type": "code",
   "execution_count": null,
   "id": "87e6a92e-ebb9-49a2-9d64-44fb706c33f8",
   "metadata": {},
   "outputs": [],
   "source": [
    "merged_df.isna().sum()"
   ]
  },
  {
   "cell_type": "code",
   "execution_count": null,
   "id": "756ef694-4d17-442b-a6b4-143ed2445cb6",
   "metadata": {},
   "outputs": [],
   "source": [
    "merged_df.shape"
   ]
  },
  {
   "cell_type": "code",
   "execution_count": null,
   "id": "29e390b3-74cf-4783-95a6-6bd0a530c6e7",
   "metadata": {},
   "outputs": [],
   "source": [
    "merged_df[\"process_step\"].value_counts()"
   ]
  },
  {
   "cell_type": "markdown",
   "id": "256e3112-1017-4f47-a73e-e414b082a912",
   "metadata": {},
   "source": [
    "##### TEST AND CONTROL DF"
   ]
  },
  {
   "cell_type": "code",
   "execution_count": null,
   "id": "c136f0a0-7fae-4eb8-b7de-c934d550eccd",
   "metadata": {},
   "outputs": [],
   "source": [
    "test_filter_V2 = merged_df.loc[merged_df[\"variation\"] == \"Test\"]\n",
    "test_control_V2 = merged_df.loc[merged_df[\"variation\"] == \"Control\"]"
   ]
  },
  {
   "cell_type": "markdown",
   "id": "ddcc2a06-9d7f-4f9a-be56-247b45b87221",
   "metadata": {},
   "source": [
    "##### FREQUENCY BY STEP FOR TEST GROUP"
   ]
  },
  {
   "cell_type": "code",
   "execution_count": null,
   "id": "f634ed07-70fa-4623-9643-c9ba38e7a4c2",
   "metadata": {},
   "outputs": [],
   "source": [
    "\n",
    "df_last_step_test_V2 = test_filter_V2.sort_values(by=['client_id', 'date_time']) \n",
    "df_last_step_test_V2 = df_last_step_test_V2.groupby('client_id').last().reset_index()\n",
    "\n",
    "df_last_step_test_frequency_V2 = df_last_step_test_V2[\"process_step\"].value_counts()\n",
    "df_last_step_test_frequency_V2 = df_last_step_test_frequency_V2.reset_index()\n",
    "df_last_step_test_frequency_V2.columns = ['step', 'frequency']\n",
    "\n",
    "df_last_step_test_frequency_V2.head()"
   ]
  },
  {
   "cell_type": "markdown",
   "id": "9b50e030-450d-45f6-9b6b-4cb3a81b560f",
   "metadata": {},
   "source": [
    "##### FREQUENCY BY STEP FOR CONTROL GROUP"
   ]
  },
  {
   "cell_type": "code",
   "execution_count": null,
   "id": "7a2cfda1-8254-42a6-b505-1768d9f09488",
   "metadata": {},
   "outputs": [],
   "source": [
    "df_last_step_control_V2 = test_control_V2.sort_values(by=['client_id', 'date_time']) \n",
    "df_last_step_control_V2 = df_last_step_control_V2.groupby('client_id').last().reset_index()\n",
    "\n",
    "df_last_step_control_frequency_V2 = df_last_step_control_V2[\"process_step\"].value_counts()\n",
    "df_last_step_control_frequency_V2 = df_last_step_control_frequency_V2.reset_index()\n",
    "df_last_step_control_frequency_V2.columns = ['step', 'frequency']\n",
    "\n",
    "df_last_step_control_frequency_V2.head()"
   ]
  },
  {
   "cell_type": "markdown",
   "id": "3694344c-a3b4-4b4e-b44e-9b1b776d302d",
   "metadata": {},
   "source": [
    "#### AGE GROUP"
   ]
  },
  {
   "cell_type": "code",
   "execution_count": null,
   "id": "4b40bb03-b4c1-467b-9796-a191a7cbbb93",
   "metadata": {},
   "outputs": [],
   "source": [
    "df_1.describe()"
   ]
  },
  {
   "cell_type": "code",
   "execution_count": null,
   "id": "f0aeefad-b43f-4b79-aa18-fc37a3202e20",
   "metadata": {},
   "outputs": [],
   "source": [
    "df_1['age_group'] = pd.cut(\n",
    "    df_1['clnt_age'], \n",
    "    bins=[0, 18, 25, 35, 50, 65, 100], \n",
    "    labels=['<18', '18-25', '26-35', '36-50', '51-65', '65+']\n",
    ")\n",
    "\n",
    "\n",
    "age_distribution = df_1['age_group'].value_counts()\n",
    "age_distribution = age_distribution.reset_index()\n",
    "age_distribution.columns = ['age_group', 'frequency']\n",
    "\n",
    "age_distribution.head()"
   ]
  },
  {
   "cell_type": "markdown",
   "id": "4db6d43f-3063-4159-8d9d-3c990db16c76",
   "metadata": {},
   "source": [
    "##### TENURE GROUP"
   ]
  },
  {
   "cell_type": "code",
   "execution_count": null,
   "id": "7cb2b2d4-c614-44f8-953e-0f7447e6d71a",
   "metadata": {},
   "outputs": [],
   "source": [
    "\n",
    "df_1['tenure_months'] = df_1['clnt_tenure_yr'] * 12 + df_1['clnt_tenure_mnth']\n",
    "\n",
    "df_1['tenure_group'] = pd.cut(\n",
    "    df_1['tenure_months'], \n",
    "    bins=[0, 12, 36, 60, 120, 240], \n",
    "    labels=['<1 year', '1-3 years', '3-5 years', '5-10 years', '10+ years']\n",
    ")\n",
    "\n",
    "tenure_distribution = df_1['tenure_group'].value_counts()\n",
    "tenure_distribution = tenure_distribution.reset_index()\n",
    "tenure_distribution.columns = ['tenure_group', 'frequency']\n",
    "\n",
    "tenure_distribution.head()\n",
    "\n"
   ]
  },
  {
   "cell_type": "code",
   "execution_count": null,
   "id": "ecb9c46b-91b5-4145-b363-6794e556b449",
   "metadata": {},
   "outputs": [],
   "source": [
    "# Table croisée âge et ancienneté\n",
    "age_tenure_analysis = pd.crosstab(df_1['age_group'], df_1['tenure_group'])\n"
   ]
  },
  {
   "cell_type": "code",
   "execution_count": null,
   "id": "c6711f03-257f-4e58-93b4-d5c3a3c4c3da",
   "metadata": {},
   "outputs": [],
   "source": [
    "age_tenure_analysis.head()"
   ]
  },
  {
   "cell_type": "code",
   "execution_count": null,
   "id": "b19bff29-7000-4254-a964-036f6bcda68c",
   "metadata": {},
   "outputs": [],
   "source": [
    "fig, ax = plt.subplots(figsize=(8, 6))\n",
    "cax = ax.matshow(age_tenure_analysis, cmap='coolwarm')\n",
    "\n",
    "# Add colorbar\n",
    "fig.colorbar(cax)\n",
    "\n",
    "# Add labels to the axes\n",
    "ax.set_xticks(range(len(age_tenure_analysis.columns)))\n",
    "ax.set_yticks(range(len(age_tenure_analysis.index)))\n",
    "ax.set_xticklabels(age_tenure_analysis.columns, rotation=45)\n",
    "ax.set_yticklabels(age_tenure_analysis.index)\n",
    "\n",
    "# Add title and labels\n",
    "ax.set_title('Heatmap: Age Group vs Tenure Group', pad=20)\n",
    "ax.set_xlabel('Tenure Group')\n",
    "ax.set_ylabel('Age Group')\n",
    "\n",
    "# Annotate the cells with values\n",
    "for (i, j), val in np.ndenumerate(age_tenure_analysis.values):\n",
    "    ax.text(j, i, int(val) if not np.isnan(val) else '', ha='center', va='center', color='black')\n",
    "\n",
    "# Show the plot\n",
    "plt.tight_layout()\n",
    "plt.show()"
   ]
  }
 ],
 "metadata": {
  "kernelspec": {
   "display_name": "Python 3 (ipykernel)",
   "language": "python",
   "name": "python3"
  },
  "language_info": {
   "codemirror_mode": {
    "name": "ipython",
    "version": 3
   },
   "file_extension": ".py",
   "mimetype": "text/x-python",
   "name": "python",
   "nbconvert_exporter": "python",
   "pygments_lexer": "ipython3",
   "version": "3.12.4"
  }
 },
 "nbformat": 4,
 "nbformat_minor": 5
}
