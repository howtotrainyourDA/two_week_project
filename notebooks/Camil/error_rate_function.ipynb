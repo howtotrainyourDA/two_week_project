{
 "cells": [
  {
   "cell_type": "code",
   "execution_count": null,
   "metadata": {},
   "outputs": [],
   "source": [
    "import numpy as np\n",
    "import pandas as pd\n",
    "import seaborn as sns\n",
    "import matplotlib.pyplot as plt"
   ]
  },
  {
   "cell_type": "code",
   "execution_count": null,
   "metadata": {},
   "outputs": [],
   "source": [
    "df_1 = pd.read_csv('/Users/camil/Documents/iron_hack_bootcamp/week_5/2_weeks_project/two_week_project/data/clean/all_clients.csv')\n",
    "df_2 = pd.read_csv('/Users/camil/Documents/iron_hack_bootcamp/week_5/2_weeks_project/two_week_project/data/clean/test_filter.csv')\n",
    "df_3 = pd.read_csv('/Users/camil/Documents/iron_hack_bootcamp/week_5/2_weeks_project/two_week_project/data/clean/control_filter.csv')"
   ]
  },
  {
   "cell_type": "code",
   "execution_count": null,
   "metadata": {},
   "outputs": [],
   "source": [
    "df_1['process_step'].unique()"
   ]
  },
  {
   "cell_type": "code",
   "execution_count": null,
   "metadata": {},
   "outputs": [],
   "source": [
    "def calculate_error_rate(df, step_column='process_step'):\n",
    "\n",
    "    \"\"\"\n",
    "    Calculate the error rate of the process steps for each client.\n",
    "\n",
    "    \"\"\"\n",
    "    errors = 0\n",
    "    transitions = 0\n",
    "\n",
    "    step_mapping = {\n",
    "        'start': 0,\n",
    "        'step_1': 1,\n",
    "        'step_2': 2,\n",
    "        'step_3': 3,\n",
    "        'confirm': 4\n",
    "    }\n",
    "\n",
    "    df[\"process_step_num\"] = df[step_column].map(step_mapping)\n",
    "\n",
    "    df['error_step'] = None\n",
    "\n",
    "\n",
    "    df = df.sort_values(by=['client_id', 'date_time'], ascending=True)\n",
    "\n",
    "    for i in range(1, len(df)):\n",
    "        transitions += 1\n",
    "        if df.iloc[i][\"process_step_num\"] < df.iloc[i - 1][\"process_step_num\"]:\n",
    "            errors += 1\n",
    "            df.at[i, 'error_step'] = df.iloc[i][\"process_step_num\"]\n",
    "\n",
    "    \n",
    "\n",
    "    return errors / transitions\n",
    "\n"
   ]
  },
  {
   "cell_type": "code",
   "execution_count": null,
   "metadata": {},
   "outputs": [],
   "source": [
    "def calculate_error_rate(df, step_column='process_step'):\n",
    "    \"\"\"\n",
    "    Calculate the error rate of the process steps for each client and record the step where errors occur.\n",
    "\n",
    "    Parameters:\n",
    "        df (pd.DataFrame): The dataframe containing client process steps.\n",
    "        step_column (str): The column name for the process steps.\n",
    "\n",
    "    Returns:\n",
    "        float: The error rate.\n",
    "        pd.DataFrame: The updated dataframe with an 'error_step' column.\n",
    "    \"\"\"\n",
    "    errors = 0\n",
    "    transitions = 0\n",
    "\n",
    "    # Map the process steps to numeric values for easier comparison\n",
    "    step_mapping = {\n",
    "        'start': 0,\n",
    "        'step_1': 1,\n",
    "        'step_2': 2,\n",
    "        'step_3': 3,\n",
    "        'confirm': 4\n",
    "    }\n",
    "\n",
    "    # Add a numeric column for process steps\n",
    "    df[\"process_step_num\"] = df[step_column].map(step_mapping)\n",
    "\n",
    "    # Add a new column to record error steps\n",
    "    df['error_step'] = None\n",
    "\n",
    "    # Sort the dataframe by client_id and date_time\n",
    "    df = df.sort_values(by=['client_id', 'date_time'], ascending=True)\n",
    "\n",
    "    # Loop through the dataframe to calculate errors and record error steps\n",
    "    for i in range(1, len(df)):\n",
    "        transitions += 1\n",
    "        if df.iloc[i][\"process_step_num\"] < df.iloc[i - 1][\"process_step_num\"]:\n",
    "            errors += 1\n",
    "            # Record the original step name where the error occurred\n",
    "            df.at[i, 'error_step'] = df.iloc[i][step_column]\n",
    "\n",
    "    return errors / transitions, df\n"
   ]
  },
  {
   "cell_type": "code",
   "execution_count": null,
   "metadata": {},
   "outputs": [],
   "source": [
    "\n",
    "\n",
    "errors_rate_control = calculate_error_rate(df_3,step_column='process_step')\n",
    "errors_rate_test = calculate_error_rate(df_2, step_column='process_step')\n",
    "errors_rate = calculate_error_rate(df_1, step_column='process_step')\n",
    "\n",
    "\n",
    "#print(\"errors rate for control group: \", round(errors_rate_control*100, 2),'%')\n",
    "#print(\"errors rate for test group: \", round(errors_rate_test*100, 2),'%')\n",
    "#print(\"errors rate for overall group: \", round(errors_rate*100, 2),'%')"
   ]
  },
  {
   "cell_type": "code",
   "execution_count": null,
   "metadata": {},
   "outputs": [],
   "source": [
    "error_rate, updated_df = calculate_error_rate(df_3)\n"
   ]
  },
  {
   "cell_type": "code",
   "execution_count": null,
   "metadata": {},
   "outputs": [],
   "source": [
    "updated_df[\"error_step\"].value_counts()"
   ]
  },
  {
   "cell_type": "code",
   "execution_count": null,
   "metadata": {},
   "outputs": [],
   "source": [
    "updated_df[\"process_step\"].value_counts()"
   ]
  }
 ],
 "metadata": {
  "kernelspec": {
   "display_name": "Python 3",
   "language": "python",
   "name": "python3"
  },
  "language_info": {
   "codemirror_mode": {
    "name": "ipython",
    "version": 3
   },
   "file_extension": ".py",
   "mimetype": "text/x-python",
   "name": "python",
   "nbconvert_exporter": "python",
   "pygments_lexer": "ipython3",
   "version": "3.12.6"
  }
 },
 "nbformat": 4,
 "nbformat_minor": 2
}
